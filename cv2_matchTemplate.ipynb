{
 "cells": [
  {
   "cell_type": "code",
   "execution_count": null,
   "metadata": {
    "collapsed": true
   },
   "outputs": [],
   "source": [
    "import numpy as np\n",
    "import cv2\n",
    "import matplotlib.pyplot as plt\n",
    "import matplotlib.image as mpimg\n",
    "\n",
    "image = mpimg.imread('bbox-example-image.jpg')\n",
    "image = mpimg.imread('temp-matching-example-2.jpg')\n",
    "templist = ['cutout1.jpg', 'cutout2.jpg', 'cutout3.jpg',\n",
    "            'cutout4.jpg', 'cutout5.jpg', 'cutout6.jpg']\n",
    "\n",
    "# Here is your draw_boxes function from the previous exercise\n",
    "def draw_boxes(img, bboxes, color=(0, 0, 255), thick=6):\n",
    "    # Make a copy of the image\n",
    "    imcopy = np.copy(img)\n",
    "    # Iterate through the bounding boxes\n",
    "    for bbox in bboxes:\n",
    "        # Draw a rectangle given bbox coordinates\n",
    "        cv2.rectangle(imcopy, bbox[0], bbox[1], color, thick)\n",
    "    # Return the image copy with boxes drawn\n",
    "    return imcopy\n",
    "    \n",
    "    \n",
    "# Define a function that takes an image and a list of templates as inputs\n",
    "# then searches the image and returns the a list of bounding boxes \n",
    "# for matched templates\n",
    "def find_matches(img, template_list):\n",
    "    # Make a copy of the image to draw on\n",
    "    # Define an empty list to take bbox coords\n",
    "    bbox_list = []\n",
    "    # Iterate through template list\n",
    "    # Read in templates one by one\n",
    "    # Use cv2.matchTemplate() to search the image\n",
    "    #     using whichever of the OpenCV search methods you prefer\n",
    "    # Use cv2.minMaxLoc() to extract the location of the best match\n",
    "    # Determine bounding box corners for the match\n",
    "    # Return the list of bounding boxes\n",
    "    for template in template_list: \n",
    "        temp = mpimg.imread(template)\n",
    "        # Define matching method\n",
    "        # Other options include: cv2.TM_CCORR_NORMED', 'cv2.TM_CCOEFF', 'cv2.TM_CCORR',\n",
    "        #         'cv2.TM_SQDIFF', 'cv2.TM_SQDIFF_NORMED'\n",
    "        method=cv2.TM_CCOEFF_NORMED\n",
    "        result = cv2.matchTemplate(img, temp, method)\n",
    "        minVal, maxVal, minLoc, maxLoc = cv2.minMaxLoc(result)\n",
    "        w, h = temp.shape[1], temp.shape[0]\n",
    "        if method in [cv2.TM_SQDIFF, cv2.TM_SQDIFF_NORMED]:\n",
    "            top_left = minLoc\n",
    "        else:\n",
    "            top_left = maxLoc\n",
    "        bottom_right = (top_left[0] + w, top_left[1] + h)\n",
    "        bbox_list.append((top_left, bottom_right))\n",
    "    return bbox_list\n",
    "\n",
    "bboxes = find_matches(image, templist)\n",
    "result = draw_boxes(image, bboxes)\n",
    "plt.imshow(result)"
   ]
  }
 ],
 "metadata": {
  "kernelspec": {
   "display_name": "Python 3",
   "language": "python",
   "name": "python3"
  },
  "language_info": {
   "codemirror_mode": {
    "name": "ipython",
    "version": 3
   },
   "file_extension": ".py",
   "mimetype": "text/x-python",
   "name": "python",
   "nbconvert_exporter": "python",
   "pygments_lexer": "ipython3",
   "version": "3.5.2"
  }
 },
 "nbformat": 4,
 "nbformat_minor": 2
}
