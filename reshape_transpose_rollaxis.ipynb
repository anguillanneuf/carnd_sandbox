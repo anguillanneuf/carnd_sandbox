{
 "cells": [
  {
   "cell_type": "code",
   "execution_count": 1,
   "metadata": {
    "collapsed": true
   },
   "outputs": [],
   "source": [
    "import numpy as np"
   ]
  },
  {
   "cell_type": "code",
   "execution_count": 20,
   "metadata": {
    "collapsed": true
   },
   "outputs": [],
   "source": [
    "myShape = (2, 2, 2, 3)"
   ]
  },
  {
   "cell_type": "code",
   "execution_count": 24,
   "metadata": {
    "collapsed": false
   },
   "outputs": [
    {
     "data": {
      "text/plain": [
       "array([ 0,  1,  2,  3,  4,  5,  6,  7,  8,  9, 10, 11, 12, 13, 14, 15, 16,\n",
       "       17, 18, 19, 20, 21, 22, 23])"
      ]
     },
     "execution_count": 24,
     "metadata": {},
     "output_type": "execute_result"
    }
   ],
   "source": [
    "dat = np.arange(24)\n",
    "dat"
   ]
  },
  {
   "cell_type": "code",
   "execution_count": 25,
   "metadata": {
    "collapsed": false
   },
   "outputs": [
    {
     "data": {
      "text/plain": [
       "array([[[[ 0,  1],\n",
       "         [ 2,  3]],\n",
       "\n",
       "        [[ 4,  5],\n",
       "         [ 6,  7]]],\n",
       "\n",
       "\n",
       "       [[[ 8,  9],\n",
       "         [10, 11]],\n",
       "\n",
       "        [[12, 13],\n",
       "         [14, 15]]],\n",
       "\n",
       "\n",
       "       [[[16, 17],\n",
       "         [18, 19]],\n",
       "\n",
       "        [[20, 21],\n",
       "         [22, 23]]]])"
      ]
     },
     "execution_count": 25,
     "metadata": {},
     "output_type": "execute_result"
    }
   ],
   "source": [
    "reshaped = dat.reshape([3, 2, 2, 2])\n",
    "reshaped"
   ]
  },
  {
   "cell_type": "code",
   "execution_count": 38,
   "metadata": {
    "collapsed": false
   },
   "outputs": [
    {
     "data": {
      "text/plain": [
       "array([[[[ 0,  2],\n",
       "         [ 4,  6]],\n",
       "\n",
       "        [[ 8, 10],\n",
       "         [12, 14]],\n",
       "\n",
       "        [[16, 18],\n",
       "         [20, 22]]],\n",
       "\n",
       "\n",
       "       [[[ 1,  3],\n",
       "         [ 5,  7]],\n",
       "\n",
       "        [[ 9, 11],\n",
       "         [13, 15]],\n",
       "\n",
       "        [[17, 19],\n",
       "         [21, 23]]]])"
      ]
     },
     "execution_count": 38,
     "metadata": {},
     "output_type": "execute_result"
    }
   ],
   "source": [
    "# if rolling using last axis, items get regrouped by the positions they have in the lowest level arrays\n",
    "# think of 0, 2, 4, 6, 8, 10, 12, 14, 16, 18, 20, 22\n",
    "# then this group gets regrouped by the larger groups they belong to before\n",
    "\n",
    "transposed = reshaped.transpose((3,0,1,2)) # 2 x 3 x 2 x 2\n",
    "transposed"
   ]
  },
  {
   "cell_type": "code",
   "execution_count": 40,
   "metadata": {
    "collapsed": false
   },
   "outputs": [
    {
     "data": {
      "text/plain": [
       "array([[[[ 0,  2],\n",
       "         [ 4,  6]],\n",
       "\n",
       "        [[ 1,  3],\n",
       "         [ 5,  7]]],\n",
       "\n",
       "\n",
       "       [[[ 8, 10],\n",
       "         [12, 14]],\n",
       "\n",
       "        [[ 9, 11],\n",
       "         [13, 15]]],\n",
       "\n",
       "\n",
       "       [[[16, 18],\n",
       "         [20, 22]],\n",
       "\n",
       "        [[17, 19],\n",
       "         [21, 23]]]])"
      ]
     },
     "execution_count": 40,
     "metadata": {},
     "output_type": "execute_result"
    }
   ],
   "source": [
    "rolled = np.rollaxis(reshaped, 3, 1)\n",
    "rolled"
   ]
  },
  {
   "cell_type": "code",
   "execution_count": 28,
   "metadata": {
    "collapsed": false
   },
   "outputs": [
    {
     "data": {
      "text/plain": [
       "array([[[[ 2,  0],\n",
       "         [ 6,  4]],\n",
       "\n",
       "        [[10,  8],\n",
       "         [14, 12]],\n",
       "\n",
       "        [[18, 16],\n",
       "         [22, 20]]],\n",
       "\n",
       "\n",
       "       [[[ 3,  1],\n",
       "         [ 7,  5]],\n",
       "\n",
       "        [[11,  9],\n",
       "         [15, 13]],\n",
       "\n",
       "        [[19, 17],\n",
       "         [23, 21]]]])"
      ]
     },
     "execution_count": 28,
     "metadata": {},
     "output_type": "execute_result"
    }
   ],
   "source": [
    "reordered = transposed[:,:,:,::-1]\n",
    "reordered"
   ]
  }
 ],
 "metadata": {
  "kernelspec": {
   "display_name": "Python 3",
   "language": "python",
   "name": "python3"
  },
  "language_info": {
   "codemirror_mode": {
    "name": "ipython",
    "version": 3
   },
   "file_extension": ".py",
   "mimetype": "text/x-python",
   "name": "python",
   "nbconvert_exporter": "python",
   "pygments_lexer": "ipython3",
   "version": "3.5.2"
  }
 },
 "nbformat": 4,
 "nbformat_minor": 2
}
