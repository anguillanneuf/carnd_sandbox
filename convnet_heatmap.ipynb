{
 "cells": [
  {
   "cell_type": "code",
   "execution_count": 1,
   "metadata": {
    "collapsed": false
   },
   "outputs": [
    {
     "name": "stderr",
     "output_type": "stream",
     "text": [
      "Using TensorFlow backend.\n"
     ]
    },
    {
     "name": "stdout",
     "output_type": "stream",
     "text": [
      "____________________________________________________________________________________________________\n",
      "Layer (type)                     Output Shape          Param #     Connected to                     \n",
      "====================================================================================================\n",
      "lambda_1 (Lambda)                (None, 64, 64, 3)     0           lambda_input_1[0][0]             \n",
      "____________________________________________________________________________________________________\n",
      "conv1 (Convolution2D)            (None, 64, 64, 10)    280         lambda_1[0][0]                   \n",
      "____________________________________________________________________________________________________\n",
      "conv2 (Convolution2D)            (None, 64, 64, 10)    910         conv1[0][0]                      \n",
      "____________________________________________________________________________________________________\n",
      "maxpooling2d_1 (MaxPooling2D)    (None, 8, 8, 10)      0           conv2[0][0]                      \n",
      "____________________________________________________________________________________________________\n",
      "dropout_1 (Dropout)              (None, 8, 8, 10)      0           maxpooling2d_1[0][0]             \n",
      "____________________________________________________________________________________________________\n",
      "dense1 (Convolution2D)           (None, 1, 1, 128)     82048       dropout_1[0][0]                  \n",
      "____________________________________________________________________________________________________\n",
      "dropout_2 (Dropout)              (None, 1, 1, 128)     0           dense1[0][0]                     \n",
      "____________________________________________________________________________________________________\n",
      "dense2 (Convolution2D)           (None, 1, 1, 1)       129         dropout_2[0][0]                  \n",
      "____________________________________________________________________________________________________\n",
      "flatten_1 (Flatten)              (None, 1)             0           dense2[0][0]                     \n",
      "====================================================================================================\n",
      "Total params: 83367\n",
      "____________________________________________________________________________________________________\n"
     ]
    }
   ],
   "source": [
    "from keras.models import Sequential\n",
    "from keras.layers import Dense, Dropout, Activation, Flatten,Lambda\n",
    "from keras.layers import Convolution2D, MaxPooling2D\n",
    "from keras.utils import np_utils\n",
    "from keras import backend as K\n",
    "\n",
    "\n",
    "def get_conv(input_shape=(64,64,3), filename=None):\n",
    "    model = Sequential()\n",
    "    model.add(Lambda(lambda x: x/127.5 - 1.,input_shape=input_shape, output_shape=input_shape))\n",
    "    model.add(Convolution2D(10, 3, 3, activation='relu', name='conv1',input_shape=input_shape, \n",
    "                            border_mode=\"same\"))\n",
    "    model.add(Convolution2D(10, 3, 3, activation='relu', name='conv2',border_mode=\"same\"))\n",
    "    model.add(MaxPooling2D(pool_size=(8,8)))\n",
    "    model.add(Dropout(0.25))\n",
    "    model.add(Convolution2D(128,8,8,activation=\"relu\",name=\"dense1\")) # This was Dense(128)\n",
    "    model.add(Dropout(0.5))\n",
    "    model.add(Convolution2D(1,1,1,name=\"dense2\", activation=\"tanh\")) # This was Dense(1)\n",
    "    if filename:\n",
    "        model.load_weights(filename)        \n",
    "    return model\n",
    "\n",
    "model = get_conv()\n",
    "model.add(Flatten())\n",
    "model.compile(loss='mse',optimizer='adadelta',metrics=['accuracy'])\n",
    "model.summary()"
   ]
  },
  {
   "cell_type": "code",
   "execution_count": null,
   "metadata": {
    "collapsed": true
   },
   "outputs": [],
   "source": []
  }
 ],
 "metadata": {
  "kernelspec": {
   "display_name": "Python 3",
   "language": "python",
   "name": "python3"
  },
  "language_info": {
   "codemirror_mode": {
    "name": "ipython",
    "version": 3
   },
   "file_extension": ".py",
   "mimetype": "text/x-python",
   "name": "python",
   "nbconvert_exporter": "python",
   "pygments_lexer": "ipython3",
   "version": "3.5.2"
  }
 },
 "nbformat": 4,
 "nbformat_minor": 2
}
